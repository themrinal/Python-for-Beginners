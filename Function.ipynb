{
 "cells": [
  {
   "cell_type": "markdown",
   "metadata": {},
   "source": [
    "FUNCTION"
   ]
  },
  {
   "cell_type": "code",
   "execution_count": 9,
   "metadata": {},
   "outputs": [
    {
     "name": "stdout",
     "output_type": "stream",
     "text": [
      "This is my function\n"
     ]
    }
   ],
   "source": [
    "# Creating a function\n",
    "\n",
    "def my_Fun():\n",
    "    print(\"This is my function\")\n",
    "\n",
    "def location():\n",
    "    print(\"Where am I ?\")\n",
    "\n",
    "my_Fun()"
   ]
  },
  {
   "cell_type": "code",
   "execution_count": 10,
   "metadata": {},
   "outputs": [
    {
     "name": "stdout",
     "output_type": "stream",
     "text": [
      "Where am I ?\n"
     ]
    }
   ],
   "source": [
    "# A function is executed only when it is called\n",
    "location()"
   ]
  },
  {
   "cell_type": "code",
   "execution_count": 11,
   "metadata": {},
   "outputs": [],
   "source": [
    "# Function parameters\n",
    "\n",
    "def greet(name, age):       # two parameters - name and age\n",
    "    print(f\"Hello, {name}! You are {age} years old.\")"
   ]
  },
  {
   "cell_type": "code",
   "execution_count": 16,
   "metadata": {},
   "outputs": [
    {
     "name": "stdout",
     "output_type": "stream",
     "text": [
      "Hello, Aadrita! You are 20 years old.\n"
     ]
    }
   ],
   "source": [
    "greet(\"Aadrita\", 20)    # function arguments - \"Aadrita\" and 20.\n",
    "#greet()        # arguments must be passed as exactly mentioned in parameters"
   ]
  },
  {
   "cell_type": "code",
   "execution_count": 18,
   "metadata": {},
   "outputs": [
    {
     "name": "stdout",
     "output_type": "stream",
     "text": [
      "Hello, Debadrita! You are 19 years old.\n"
     ]
    }
   ],
   "source": [
    "greet(\"Debadrita\", 19)"
   ]
  },
  {
   "cell_type": "code",
   "execution_count": 22,
   "metadata": {},
   "outputs": [
    {
     "name": "stdout",
     "output_type": "stream",
     "text": [
      "Total no of children = 4\n",
      "Ram\n",
      "Laxman\n",
      "Bharat\n",
      "Shatrughna\n"
     ]
    }
   ],
   "source": [
    "# Arbitary arguments - *args\n",
    "\n",
    "def children(*names):  # parameter *names will accept variable number of arguments\n",
    "    print(f\"Total no of children = {len(names)}\")\n",
    "    for name in names:\n",
    "        print(name)\n",
    "\n",
    "children(\"Ram\", \"Laxman\", \"Bharat\", \"Shatrughna\")   # arbitary number of arguments can be passed"
   ]
  },
  {
   "cell_type": "code",
   "execution_count": 27,
   "metadata": {},
   "outputs": [
    {
     "name": "stdout",
     "output_type": "stream",
     "text": [
      "Yudhistir\n",
      "Arjun\n"
     ]
    }
   ],
   "source": [
    "# Keyword arguments\n",
    "\n",
    "def children_names(name1, name2, name3, name4, name5):\n",
    "    print(name1)\n",
    "    print(name3)\n",
    "\n",
    "# parameter_name = argument\n",
    "children_names(name1=\"Yudhistir\", name2=\"Bhim\", name3=\"Arjun\", name4=\"Nakul\", name5=\"Sahadev\")"
   ]
  },
  {
   "cell_type": "code",
   "execution_count": 11,
   "metadata": {},
   "outputs": [],
   "source": [
    "# Arbitary keyword arguments\n",
    "\n",
    "def children_names(**names):\n",
    "    print(f'First name = {names[\"fname\"]}, Middle Name = {names[\"mname\"]} and last name = {names[\"lastname\"]}')"
   ]
  },
  {
   "cell_type": "code",
   "execution_count": null,
   "metadata": {},
   "outputs": [
    {
     "name": "stdout",
     "output_type": "stream",
     "text": [
      "First name = mrial, Middle Name = Kumar and last name = Das\n"
     ]
    }
   ],
   "source": [
    "# Passing arbitary no of keyword arguments\n",
    "\n",
    "\n",
    "children_names(fname=\"mrial\", lastname = \"Das\", mname=\"Kumar\")"
   ]
  },
  {
   "cell_type": "code",
   "execution_count": 16,
   "metadata": {},
   "outputs": [
    {
     "name": "stdout",
     "output_type": "stream",
     "text": [
      "Name and Age of voter is = Mrinal and 18\n"
     ]
    }
   ],
   "source": [
    "# Default parameter\n",
    "\n",
    "def voterEntry(name, age=18): # Mentioning defult value for voterEntry function parameter.\n",
    "    print(f'Name and Age of voter is = {name} and {age}')\n",
    "\n",
    "voterEntry(\"Mrinal\")"
   ]
  },
  {
   "cell_type": "code",
   "execution_count": 20,
   "metadata": {},
   "outputs": [
    {
     "name": "stdout",
     "output_type": "stream",
     "text": [
      "India\n",
      "Nepal\n",
      "Bhutan\n",
      "Bangladesh\n"
     ]
    }
   ],
   "source": [
    "# Passing a list of countries\n",
    "\n",
    "def listCountries(countries):\n",
    "    for country in countries:\n",
    "        print(country)\n",
    "\n",
    "\n",
    "countryNames = ['India', 'Nepal', 'Bhutan', 'Bangladesh']\n",
    "listCountries(countryNames)"
   ]
  },
  {
   "cell_type": "code",
   "execution_count": 21,
   "metadata": {},
   "outputs": [],
   "source": [
    "# Return values\n",
    "\n",
    "def repeatStr(val, i):\n",
    "    return val * i"
   ]
  },
  {
   "cell_type": "code",
   "execution_count": 24,
   "metadata": {},
   "outputs": [
    {
     "name": "stdout",
     "output_type": "stream",
     "text": [
      "Mrinal Mrinal Mrinal \n"
     ]
    }
   ],
   "source": [
    "print(repeatStr('Mrinal ', 3))"
   ]
  },
  {
   "cell_type": "code",
   "execution_count": null,
   "metadata": {},
   "outputs": [
    {
     "name": "stdout",
     "output_type": "stream",
     "text": [
      "Hello Mrinal Das from Siliguri! Your age is 35.\n"
     ]
    }
   ],
   "source": [
    "# Position only arguments\n",
    "\n",
    "def getName(name, age, city, /):  # A '/' specify that the function can only positional arguments.\n",
    "\n",
    "    print(f\"Hello {name} from {city}! Your age is {age}.\")\n",
    "\n",
    "getName('Mrinal Das', 35, 'Siliguri')"
   ]
  },
  {
   "cell_type": "code",
   "execution_count": null,
   "metadata": {},
   "outputs": [
    {
     "name": "stdout",
     "output_type": "stream",
     "text": [
      "Arun\n",
      "Barun\n",
      "Kalam\n",
      "Azad\n"
     ]
    }
   ],
   "source": [
    "# Keyword only arguments\n",
    "\n",
    "def children(*, kids):   # An '*' at the begining of the parameter list makes a function to accept only keyword arguments.\n",
    "    for name in kids:\n",
    "        print(name)\n",
    "\n",
    "names = [\"Arun\", \"Barun\", \"Kalam\", \"Azad\"]\n",
    "children(kids=names)"
   ]
  },
  {
   "cell_type": "code",
   "execution_count": 7,
   "metadata": {},
   "outputs": [
    {
     "name": "stdout",
     "output_type": "stream",
     "text": [
      "i = 10, j = 20, k = 30, l = 40, m = 30, and n = 20\n"
     ]
    }
   ],
   "source": [
    "# Combine keyword only and also position only arguments\n",
    "\n",
    "def keyword_position(i, j, k, /, *, l, m, n):\n",
    "    print(f\"i = {i}, j = {j}, k = {k}, l = {l}, m = {m}, and n = {n}\")\n",
    "\n",
    "keyword_position(10, 20, 30, l=40, m=30, n=20)"
   ]
  },
  {
   "cell_type": "code",
   "execution_count": 2,
   "metadata": {},
   "outputs": [
    {
     "name": "stdout",
     "output_type": "stream",
     "text": [
      "Total no of kids : 3\n",
      "Name of kids are:\n",
      "Raju\n",
      "Ghanashyam\n",
      "Baburao\n"
     ]
    }
   ],
   "source": [
    "# Arbitary arguments\n",
    "\n",
    "def arb_arg(*kids):\n",
    "    print(\"Total no of kids :\", len(kids))\n",
    "    print('Name of kids are:')\n",
    "    for each in kids:\n",
    "        print(each)\n",
    "\n",
    "arb_arg('Raju', 'Ghanashyam', 'Baburao')"
   ]
  },
  {
   "cell_type": "code",
   "execution_count": 3,
   "metadata": {},
   "outputs": [
    {
     "name": "stdout",
     "output_type": "stream",
     "text": [
      "Number of kids : 3\n",
      "First Name = Mrinal \n",
      "Middle Name = Kanti \n",
      "Last Name = Das\n"
     ]
    }
   ],
   "source": [
    "# Arbitary keyword arguments\n",
    "\n",
    "def arb_kwrd_arg(**kids):\n",
    "    print('Number of kids :', len(kids))\n",
    "    print(f\"First Name = {kids['fn']} \\nMiddle Name = {kids['mn']} \\nLast Name = {kids['ln']}\")\n",
    "\n",
    "arb_kwrd_arg(fn = 'Mrinal', mn = 'Kanti', ln = 'Das')"
   ]
  },
  {
   "cell_type": "code",
   "execution_count": 27,
   "metadata": {},
   "outputs": [
    {
     "name": "stdout",
     "output_type": "stream",
     "text": [
      "1\n",
      "1\n",
      "2\n",
      "6\n",
      "24\n",
      "120\n",
      "720\n",
      "5040\n",
      "40320\n",
      "362880\n",
      "3628800\n",
      "39916800\n",
      "479001600\n",
      "6227020800\n",
      "87178291200\n",
      "1307674368000\n",
      "20922789888000\n",
      "355687428096000\n",
      "6402373705728000\n",
      "121645100408832000\n"
     ]
    }
   ],
   "source": [
    "# Recursion\n",
    "\n",
    "def getFact(no):\n",
    "    if no <= 1:\n",
    "        return 1    \n",
    "    else:\n",
    "        return no * getFact(no-1)\n",
    "\n",
    "\n",
    "for each in range(20):\n",
    "    print(getFact(each))"
   ]
  },
  {
   "cell_type": "code",
   "execution_count": null,
   "metadata": {},
   "outputs": [],
   "source": []
  }
 ],
 "metadata": {
  "kernelspec": {
   "display_name": "Python 3 (ipykernel)",
   "language": "python",
   "name": "python3"
  },
  "language_info": {
   "codemirror_mode": {
    "name": "ipython",
    "version": 3
   },
   "file_extension": ".py",
   "mimetype": "text/x-python",
   "name": "python",
   "nbconvert_exporter": "python",
   "pygments_lexer": "ipython3",
   "version": "3.12.1"
  }
 },
 "nbformat": 4,
 "nbformat_minor": 2
}
