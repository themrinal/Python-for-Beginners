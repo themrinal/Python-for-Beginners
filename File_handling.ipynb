{
 "cells": [
  {
   "cell_type": "code",
   "execution_count": 4,
   "metadata": {},
   "outputs": [
    {
     "name": "stdout",
     "output_type": "stream",
     "text": [
      "/workspaces/Python-for-Beginners\n"
     ]
    }
   ],
   "source": [
    "import os\n",
    "print(os.getcwd())"
   ]
  },
  {
   "cell_type": "code",
   "execution_count": 12,
   "metadata": {},
   "outputs": [
    {
     "name": "stdout",
     "output_type": "stream",
     "text": [
      "Current working directory: /workspaces/Python-for-Beginners\n",
      "Full file path: /workspaces/Python-for-Beginners/demoFile.txt\n",
      "The file at /workspaces/Python-for-Beginners/demoFile.txt was not found.\n"
     ]
    }
   ],
   "source": [
    "import os\n",
    "print(\"Current working directory:\", os.getcwd())\n",
    "file_path = '/workspaces/Python-for-Beginners/demoFile.txt'\n",
    "print(\"Full file path:\", file_path)\n",
    "\n",
    "try:\n",
    "    with open(file_path, 'r') as fs:\n",
    "        print(fs.read())\n",
    "except FileNotFoundError:\n",
    "    print(f\"The file at {file_path} was not found.\")"
   ]
  }
 ],
 "metadata": {
  "kernelspec": {
   "display_name": "Python 3 (ipykernel)",
   "language": "python",
   "name": "python3"
  },
  "language_info": {
   "codemirror_mode": {
    "name": "ipython",
    "version": 3
   },
   "file_extension": ".py",
   "mimetype": "text/x-python",
   "name": "python",
   "nbconvert_exporter": "python",
   "pygments_lexer": "ipython3",
   "version": "3.12.1"
  }
 },
 "nbformat": 4,
 "nbformat_minor": 2
}
