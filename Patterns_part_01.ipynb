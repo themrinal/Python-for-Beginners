{
 "cells": [
  {
   "cell_type": "markdown",
   "id": "97f62a35",
   "metadata": {},
   "source": [
    "In this Python Notebook there are 10 programs of different patterns."
   ]
  },
  {
   "cell_type": "code",
   "execution_count": 16,
   "id": "b1d0f8bb-1f7b-4a7a-bc49-c36324975db9",
   "metadata": {},
   "outputs": [
    {
     "name": "stdout",
     "output_type": "stream",
     "text": [
      "hello world\n",
      "Mrinal\n",
      "Mrinal\n",
      "Mrinal\n",
      "\n"
     ]
    }
   ],
   "source": [
    "print(\"hello world\")\n",
    "print(\"Mrinal\\n\" * 3)"
   ]
  },
  {
   "cell_type": "code",
   "execution_count": 17,
   "id": "ad128c92",
   "metadata": {},
   "outputs": [
    {
     "name": "stdout",
     "output_type": "stream",
     "text": [
      "* * * * *\n",
      "* * * * *\n",
      "* * * * *\n",
      "* * * * *\n",
      "* * * * *\n",
      "\n"
     ]
    }
   ],
   "source": [
    "'''\n",
    "Q1. Print the below mention pattern using Python.\n",
    "\n",
    "* * * * *\n",
    "* * * * *\n",
    "* * * * *\n",
    "* * * * *\n",
    "* * * * *\n",
    "'''\n",
    "\n",
    "# The string \"* * * * *\\n\" represents one row of asterisks followed by a newline character.\n",
    "# Multiplying the string by 5 repeats this row 5 times, resulting in a 5x5 grid.\n",
    "print (\"* * * * *\\n\" * 5)"
   ]
  },
  {
   "cell_type": "code",
   "execution_count": 18,
   "id": "1f0cefd9",
   "metadata": {},
   "outputs": [
    {
     "name": "stdout",
     "output_type": "stream",
     "text": [
      "* \n",
      "* * \n",
      "* * * \n",
      "* * * * \n",
      "* * * * * \n"
     ]
    }
   ],
   "source": [
    "'''\n",
    "Q2. Print the below mentioned pattern using Python.\n",
    "\n",
    "*\n",
    "* * \n",
    "* * *\n",
    "* * * * \n",
    "* * * * *\n",
    "'''\n",
    "\n",
    "#For each iteration, the string \"* \" is repeated 'i' times, where 'i' is the current iteration number.\n",
    "# The result is that the number of asterisks increases with each row, forming a triangular pattern.\n",
    "for i in range(1, 6):\n",
    "    print(\"* \" * i)"
   ]
  },
  {
   "cell_type": "code",
   "execution_count": 19,
   "id": "b0cd9e41",
   "metadata": {},
   "outputs": [
    {
     "name": "stdout",
     "output_type": "stream",
     "text": [
      "* * * * * \n",
      "* * * * \n",
      "* * * \n",
      "* * \n",
      "* \n"
     ]
    }
   ],
   "source": [
    "'''\n",
    "Q3. Print the below mentioned pattern using Python.\n",
    "\n",
    "* * * * *\n",
    "* * * *\n",
    "* * *\n",
    "* * \n",
    "*\n",
    "'''\n",
    "\n",
    "# The loop starts with 'i' equal to 5 and decrements by 1 in each iteration until it reaches 1.\n",
    "# For each iteration, the string \"* \" is repeated 'i' times, where 'i' is the current value of the loop variable.\n",
    "# As 'i' decreases, the number of asterisks in each row decreases, forming an inverted triangle pattern.\n",
    "for i in range(5, 0, -1):\n",
    "    print('* ' * i)"
   ]
  },
  {
   "cell_type": "code",
   "execution_count": 20,
   "id": "a75218cf",
   "metadata": {},
   "outputs": [
    {
     "name": "stdout",
     "output_type": "stream",
     "text": [
      "    * \n",
      "   * * \n",
      "  * * * \n",
      " * * * * \n",
      "* * * * * \n"
     ]
    }
   ],
   "source": [
    "'''\n",
    "Q4. Print the below mentioned pattern using Python.\n",
    "\n",
    "    *\n",
    "   * *\n",
    "  * * * \n",
    " * * * *\n",
    "* * * * *\n",
    "'''\n",
    "\n",
    "x=4     # Initialize a variable 'x' to control the number of spaces at the start of each row, starting with 4.\n",
    "for i in range(1,6):\n",
    "    print(' ' * x + '* ' * i)       # '* ' * i: Repeats '* ' (asterisk followed by a space) 'i' times, creating the star portion of the row.\n",
    "    x -= 1      # Decrease 'x' by 1 to reduce the number of spaces in the next row, shifting the stars towards the left."
   ]
  },
  {
   "cell_type": "code",
   "execution_count": 1,
   "id": "5de99407",
   "metadata": {},
   "outputs": [
    {
     "name": "stdout",
     "output_type": "stream",
     "text": [
      "* * * * * \n",
      " * * * * \n",
      "  * * * \n",
      "   * * \n",
      "    * \n"
     ]
    }
   ],
   "source": [
    "'''\n",
    "Q5. Print the below mentioned pattern using Python.\n",
    "\n",
    "* * * * *\n",
    " * * * *\n",
    "  * * *\n",
    "   * *\n",
    "    *\n",
    "'''\n",
    "\n",
    "x=0     # Initialize a variable x to control the number of spaces at the start of each row.\n",
    "for i in range(5, 0, -1):\n",
    "    print(' ' * x + '* ' * i)       #'* ' * i: Repeats '* ' (asterisk followed by a space) 'i' times, creating the star portion of the row.\n",
    "    x += 1"
   ]
  },
  {
   "cell_type": "code",
   "execution_count": 26,
   "id": "b857bab3",
   "metadata": {},
   "outputs": [
    {
     "name": "stdout",
     "output_type": "stream",
     "text": [
      "        * \n",
      "      * * \n",
      "    * * * \n",
      "  * * * * \n",
      "* * * * * \n"
     ]
    }
   ],
   "source": [
    "'''\n",
    "Q6. Print the below mentioned pattern using Python.\n",
    "\n",
    "        *\n",
    "      * * \n",
    "    * * * \n",
    "  * * * *\n",
    "* * * * *\n",
    "'''\n",
    "\n",
    "x=8      # Initialize a variable 'x' to control the number of spaces at the start of each row, starting with 8.\n",
    "for i in range(1,6):\n",
    "    print(' ' * x + '* ' * i)     # ' ' * x: Adds 'x' spaces at the beginning of the row to align the stars and '* ' * i: Repeats '* ' (asterisk followed by a space) 'i' times, creating the star portion of the row.\n",
    "    x -= 2      # Decrease 'x' by 2 after each iteration to reduce the number of spaces, shifting the stars towards the left."
   ]
  },
  {
   "cell_type": "code",
   "execution_count": 2,
   "id": "44a3b709",
   "metadata": {},
   "outputs": [
    {
     "name": "stdout",
     "output_type": "stream",
     "text": [
      "* * * * * \n",
      "  * * * * \n",
      "    * * * \n",
      "      * * \n",
      "        * \n"
     ]
    }
   ],
   "source": [
    "'''\n",
    "Q7. Print the below mentioned pattern using Python.\n",
    "\n",
    "* * * * *\n",
    "  * * * *\n",
    "    * * *\n",
    "      * *\n",
    "        *\n",
    "'''\n",
    "\n",
    "x=0     # Initialize a variable 'x' to control the number of spaces at the start of each row, starting with 0.\n",
    "for i in range(5, 0, -1):\n",
    "    print(' ' * x + '* ' * i)       # ' ' * x: Adds 'x' spaces at the beginning of the row to align the stars and '* ' * i: Repeats '* ' (asterisk followed by a space) 'i' times, creating the star portion of the row.\n",
    "    \n",
    "    x += 2      # Increment 'x' by 2 after each iteration to add more spaces in the next row, shifting the stars further to the right."
   ]
  },
  {
   "cell_type": "code",
   "execution_count": null,
   "id": "09ac5507",
   "metadata": {},
   "outputs": [
    {
     "name": "stdout",
     "output_type": "stream",
     "text": [
      "*              *\n",
      "* *          * *\n",
      "* * *      * * *\n",
      "* * * *  * * * *\n"
     ]
    }
   ],
   "source": [
    "'''\n",
    "Q8. Print the below mentioned pattern using Python.\n",
    "\n",
    "*             *\n",
    "* *         * *\n",
    "* * *     * * * \n",
    "* * * * * * * *\n",
    "'''\n",
    "\n",
    "x=12\n",
    "for i in range(1, 5):\n",
    "    print('* ' * i + ' ' * x + ' *' * i)                   \n",
    "    # - '* ' * i: Print 'i' stars, with a space after each star.\n",
    "    # - ' ' * x: Print 'x' spaces in the middle between the two sets of stars.\n",
    "    # - ' *' * i: Print 'i' stars after the spaces, again with a space after each star.\n",
    "    x -= 4      # Decrease 'x' by 4 after each iteration to reduce the number of spaces in the middle.\n"
   ]
  },
  {
   "cell_type": "code",
   "execution_count": 1,
   "id": "f1a8834f",
   "metadata": {},
   "outputs": [
    {
     "name": "stdout",
     "output_type": "stream",
     "text": [
      "* * * *  * * * *\n",
      "* * *      * * *\n",
      "* *          * *\n",
      "*              *\n"
     ]
    }
   ],
   "source": [
    "'''\n",
    "Q9. Print the below mentioned pattern using Python.\n",
    "\n",
    "* * * * * * * *\n",
    "* * *     * * *\n",
    "* *         * *\n",
    "*             *\n",
    "'''\n",
    "\n",
    "x=0\n",
    "for i in range(4, 0, -1):\n",
    "    print('* ' * i + ' ' * x + ' *' * i)\n",
    "    # - '* ' * i: Print 'i' stars with a space after each star on the left.\n",
    "    # - ' ' * x: Print 'x' spaces in the middle between the two sets of stars.\n",
    "    # - ' *' * i: Print 'i' stars after the spaces, with a space after each star on the right.\n",
    "    \n",
    "    x += 4  # Increment 'x' by 4 after each iteration, adding more spaces in the middle for the next row."
   ]
  },
  {
   "cell_type": "code",
   "execution_count": 15,
   "id": "8a3831d2",
   "metadata": {},
   "outputs": [
    {
     "name": "stdout",
     "output_type": "stream",
     "text": [
      "*              *\n",
      "* *          * *\n",
      "* * *      * * *\n",
      "* * * *  * * * *\n",
      "* * *      * * *\n",
      "* *          * *\n",
      "*              *\n"
     ]
    }
   ],
   "source": [
    "'''\n",
    "Q10. Print the below mentioned pattern using Python.\n",
    "\n",
    "*             *\n",
    "* *         * *\n",
    "* * *     * * * \n",
    "* * * * * * * *\n",
    "* * *     * * *\n",
    "* *         * *\n",
    "*             *\n",
    "'''\n",
    "\n",
    "x=12\n",
    "for i in range(1, 5):\n",
    "    print('* ' * i + ' ' * x + ' *' * i)\n",
    "    x -= 4\n",
    "\n",
    "x=4\n",
    "for i in range(3, 0, -1):\n",
    "    print('* ' * i + ' ' * x + ' *' * i)\n",
    "    x += 4"
   ]
  }
 ],
 "metadata": {
  "kernelspec": {
   "display_name": "Python 3 (ipykernel)",
   "language": "python",
   "name": "python3"
  },
  "language_info": {
   "codemirror_mode": {
    "name": "ipython",
    "version": 3
   },
   "file_extension": ".py",
   "mimetype": "text/x-python",
   "name": "python",
   "nbconvert_exporter": "python",
   "pygments_lexer": "ipython3",
   "version": "3.12.1"
  }
 },
 "nbformat": 4,
 "nbformat_minor": 5
}
