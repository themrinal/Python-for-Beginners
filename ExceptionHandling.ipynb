{
 "cells": [
  {
   "cell_type": "markdown",
   "metadata": {},
   "source": [
    "Hi, welcome to exception handling practice tutorial."
   ]
  },
  {
   "cell_type": "code",
   "execution_count": null,
   "metadata": {},
   "outputs": [],
   "source": [
    "# Program to demonstrate raising an exception for division by zero\n",
    "\n",
    "# Take the first number as input from the user\n",
    "a = int(input('1st no: '))\n",
    "\n",
    "# Take the second number as input from the user\n",
    "b = int(input('2nd no: '))\n",
    "\n",
    "# Check if the second number is zero to handle division by zero\n",
    "if b == 0:\n",
    "    # Raise an exception to indicate an invalid operation (division by zero)\n",
    "    raise Exception(\"Message for user: cannot be divided by zero\")\n",
    "else:\n",
    "    # If no exception is raised, perform and display the division\n",
    "    print(a / b)\n"
   ]
  },
  {
   "cell_type": "code",
   "execution_count": null,
   "metadata": {},
   "outputs": [],
   "source": [
    "# Program to demonstrate the use of try and except for exception handling\n",
    "\n",
    "try:\n",
    "    # Attempt to convert user input to an integer, which may raise a ValueError\n",
    "    name = int(input('Enter your name: '))\n",
    "    # If no exception occurs, this line will execute\n",
    "    print('hello ', name)\n",
    "except:\n",
    "    # This block executes if an exception occurs in the try block\n",
    "    print('An error occurred!')\n",
    "\n",
    "# This line executes regardless of whether an exception occurred or not\n",
    "print('bye bye...!')"
   ]
  },
  {
   "cell_type": "code",
   "execution_count": null,
   "metadata": {},
   "outputs": [],
   "source": [
    "# Code without exception handling\n",
    "\n",
    "name = int(input('Enter your name: '))  # Converts input to an integer\n",
    "print('hello ', name)  # Greets the user\n",
    "print('bye bye...!')  # Prints a farewell message"
   ]
  },
  {
   "cell_type": "code",
   "execution_count": null,
   "metadata": {},
   "outputs": [],
   "source": [
    "# Program demonstrating exception handling with specific exception class\n",
    "\n",
    "try:\n",
    "    # Attempt to take input and perform operations\n",
    "    x = int(input('Enter a number: '))  # Convert input to integer\n",
    "    y = input('Enter another number')  # Take another input as a string\n",
    "\n",
    "    # Try to add integer and string, which will cause a TypeError\n",
    "    result = x + y\n",
    "    print('Sum =', result)\n",
    "except NameError:\n",
    "    # This block will execute if there is an undefined variable error\n",
    "    print('Undefined variable in use')\n",
    "except TypeError:\n",
    "    # This block will execute if there is a type mismatch during operations\n",
    "    print('Type mismatch occurred: Cannot add int and string')\n",
    "\n",
    "# This line executes regardless of exception occurrence\n",
    "print(\"bye bye...!\")"
   ]
  },
  {
   "cell_type": "code",
   "execution_count": null,
   "metadata": {},
   "outputs": [],
   "source": [
    "# Program demonstrating specific exception handling for NameError and TypeError\n",
    "\n",
    "try:\n",
    "    # Take first input and convert it to an integer\n",
    "    x = int(input('Enter a number: '))  \n",
    "    \n",
    "    # Take the second input as a string\n",
    "    y = input('Enter another number')  \n",
    "    \n",
    "    # Attempt to add an integer and a string, which will cause a TypeError\n",
    "    result = x + y  \n",
    "    print('Sum =', result)\n",
    "except NameError:\n",
    "    # Handles cases where an undefined variable is used (unlikely in this program)\n",
    "    print('Undefined variable in use')\n",
    "except TypeError:\n",
    "    # Handles type mismatch errors (e.g., adding an integer and a string)\n",
    "    print('Datatypes are not compatible')\n",
    "\n",
    "# This message is displayed whether or not an exception occurs\n",
    "print('Bye bye...!')"
   ]
  },
  {
   "cell_type": "code",
   "execution_count": null,
   "metadata": {},
   "outputs": [],
   "source": [
    "# Program to demonstrate the use of 'else' with 'try-except'\n",
    "\n",
    "try:\n",
    "    # Take first input and convert it to an integer\n",
    "    x = int(input('Enter a number: '))\n",
    "    \n",
    "    # Take the second input as a string\n",
    "    y = input('Enter another number')\n",
    "    \n",
    "    # Attempt to add an integer and a string (likely to cause a TypeError)\n",
    "    result = x + y\n",
    "except NameError:\n",
    "    # Handles cases where an undefined variable is used\n",
    "    print('Undefined variable in use')\n",
    "except ZeroDivisionError:\n",
    "    # Handles division by zero error (though not applicable here)\n",
    "    print('Cannot be divided by zero')\n",
    "else:\n",
    "    # Executes only if no exception occurs in the try block\n",
    "    print(\"No problem\")\n",
    "    print(\"Sum = \", result)  # Only printed when there’s no exception\n",
    "\n",
    "# Executes after the try-except-else block\n",
    "print(\"End of program\")"
   ]
  },
  {
   "cell_type": "code",
   "execution_count": null,
   "metadata": {},
   "outputs": [],
   "source": [
    "# Use 'else' with 'try-except'.\n",
    "# else will be executed if there is no exception raised\n",
    "\n",
    "try:\n",
    "    x = int(input('Enter a number :'))\n",
    "    y = int(input('Enter another number'))\n",
    "\n",
    "    result = x + y\n",
    "except NameError:\n",
    "    print('undefined varible in use')\n",
    "except ZeroDivisionError:\n",
    "    print('Can not be divided by zero')\n",
    "else:\n",
    "    print(\"No problem\")\n",
    "\n",
    "print(\"Sum = \", result)"
   ]
  },
  {
   "cell_type": "code",
   "execution_count": null,
   "metadata": {},
   "outputs": [],
   "source": [
    "# Program to demonstrate the use of 'finally' with exception handling\n",
    "\n",
    "try:\n",
    "    # Take the first input and convert it to an integer\n",
    "    x = int(input('Enter a number: '))\n",
    "    \n",
    "    # Take the second input as a string\n",
    "    y = input('Enter another number')\n",
    "    \n",
    "    # Attempt to add an integer and a string (likely to cause a TypeError)\n",
    "    result = x + y\n",
    "except NameError:\n",
    "    # Handles cases where an undefined variable is used\n",
    "    print('Undefined variable in use')\n",
    "except ZeroDivisionError:\n",
    "    # Handles division by zero error (though not applicable here)\n",
    "    print('Cannot be divided by zero')\n",
    "else:\n",
    "    # Executes if no exception occurs in the try block\n",
    "    print(\"No problem\")\n",
    "finally:\n",
    "    # Executes regardless of whether an exception occurs or not\n",
    "    print(\"Thank you for using my application\")\n",
    "\n",
    "# This line might cause an error if 'result' was not defined due to an exception\n",
    "# You can guard it using an additional condition or initialize 'result' beforehand\n",
    "if result is not None:\n",
    "    print(\"Sum = \", result)\n",
    "\n"
   ]
  },
  {
   "cell_type": "code",
   "execution_count": null,
   "metadata": {},
   "outputs": [],
   "source": [
    "# Program demonstrating the use of 'raise' to trigger a custom exception\n",
    "\n",
    "# Taking user input for name and age\n",
    "name = input('Name: ')  \n",
    "age = int(input('Age: '))  \n",
    "\n",
    "# Checking if age is less than zero, and raising a custom exception\n",
    "if age < 0:\n",
    "    raise Exception('Age cannot be less than zero')  # Raise an exception with a custom message\n",
    "elif age < 18:\n",
    "    # If age is less than 18, print a message indicating ineligibility to vote\n",
    "    print('You are not eligible to cast your vote now')\n",
    "else:\n",
    "    # If age is 18 or more, print a message indicating eligibility to vote\n",
    "    print('Eligible for casting vote')"
   ]
  }
 ],
 "metadata": {
  "kernelspec": {
   "display_name": "Python 3 (ipykernel)",
   "language": "python",
   "name": "python3"
  }
 },
 "nbformat": 4,
 "nbformat_minor": 2
}
