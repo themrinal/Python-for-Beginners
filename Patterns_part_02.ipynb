{
 "cells": [
  {
   "cell_type": "code",
   "execution_count": 22,
   "metadata": {},
   "outputs": [
    {
     "name": "stdout",
     "output_type": "stream",
     "text": [
      "hello world\n"
     ]
    }
   ],
   "source": [
    "print('hello world')"
   ]
  },
  {
   "cell_type": "code",
   "execution_count": 23,
   "metadata": {},
   "outputs": [
    {
     "name": "stdout",
     "output_type": "stream",
     "text": [
      "1 2 3 4\n",
      "1 2 3 4\n",
      "1 2 3 4\n",
      "1 2 3 4\n",
      "\n"
     ]
    }
   ],
   "source": [
    "'''\n",
    "Q1. Write a program to print the following square pattern of numbers:\n",
    "\n",
    "1 2 3 4 \n",
    "1 2 3 4\n",
    "1 2 3 4\n",
    "1 2 3 4\n",
    "'''\n",
    "\n",
    "print(\"1 2 3 4\\n\" * 4)"
   ]
  },
  {
   "cell_type": "code",
   "execution_count": 24,
   "metadata": {},
   "outputs": [
    {
     "name": "stdout",
     "output_type": "stream",
     "text": [
      "1 \n",
      "1 2 \n",
      "1 2 3 \n",
      "1 2 3 4 \n",
      "1 2 3 4 5 \n"
     ]
    }
   ],
   "source": [
    "'''\n",
    "Q2. Right-Angled Triangle of Numbers: Write a program to print a right-angled triangle pattern of numbers like this:\n",
    "\n",
    "1\n",
    "1 2\n",
    "1 2 3\n",
    "1 2 3 4\n",
    "1 2 3 4 5\n",
    "'''\n",
    "pat=''                              # Initialize an empty string to store the pattern\n",
    "for i in range(1, 6):\n",
    "    pat = pat + str(i) +' '         # Concatenate the current number (converted to string) and a space to 'pat'\n",
    "    print(pat)"
   ]
  },
  {
   "cell_type": "code",
   "execution_count": 26,
   "metadata": {},
   "outputs": [
    {
     "name": "stdout",
     "output_type": "stream",
     "text": [
      "5 4 3 2 1\n",
      "5 4 3 2\n",
      "5 4 3\n",
      "5 4\n",
      "5\n"
     ]
    }
   ],
   "source": [
    "'''\n",
    "Q3. Inverted Right-Angled Triangle of Numbers: Write a program to print an inverted right-angled triangle of numbers:\n",
    "\n",
    "5 4 3 2 1\n",
    "5 4 3 2\n",
    "5 4 3\n",
    "5 4\n",
    "5\n",
    "'''\n",
    "\n",
    "pat = '5 4 3 2 1'           # Total length of the string is 9\n",
    "for i in range(len(pat), 0, -2):   # Step -2 in order to skin the space in between the numbers.\n",
    "    print(pat[0:i])"
   ]
  },
  {
   "cell_type": "code",
   "execution_count": 27,
   "metadata": {},
   "outputs": [
    {
     "name": "stdout",
     "output_type": "stream",
     "text": [
      "1 2 3 4 5\n",
      "  1 2 3 4\n",
      "    1 2 3\n",
      "      1 2\n",
      "        1\n"
     ]
    }
   ],
   "source": [
    "'''\n",
    "Q4. Write a program to print the inverted triangle number pattern as given below.\n",
    "1 2 3 4 5\n",
    "  1 2 3 4\n",
    "    1 2 3\n",
    "      1 2\n",
    "        1\n",
    "'''\n",
    "pat = '1 2 3 4 5'\n",
    "for i in range(0, len(pat), 2):\n",
    "    print(' ' * i + pat[0:len(pat)-i])"
   ]
  },
  {
   "cell_type": "code",
   "execution_count": 28,
   "metadata": {},
   "outputs": [
    {
     "name": "stdout",
     "output_type": "stream",
     "text": [
      "          1\n",
      "        0 1 0\n",
      "      1 0 1 0 1\n",
      "    0 1 0 1 0 1 0\n",
      "  1 0 1 0 1 0 1 0 1\n",
      "0 1 0 1 0 1 0 1 0 1 0\n"
     ]
    }
   ],
   "source": [
    "'''\n",
    "Q5. Write a program to print the following triangle pattern of numbers and spaces:\n",
    "\n",
    "          1\n",
    "        0 1 0\n",
    "      1 0 1 0 1\n",
    "    0 1 0 1 0 1 0\n",
    "  1 0 1 0 1 0 1 0 1\n",
    "0 1 0 1 0 1 0 1 0 1 0\n",
    "'''\n",
    "pat = '0 1 0 1 0 1 0 1 0 1 0'\n",
    "mid = len(pat)//2\n",
    "\n",
    "space = 10\n",
    "nos = 0\n",
    "for i in range(6):\n",
    "  print(' ' * space + pat[mid - nos: mid + nos + 1])\n",
    "  space -= 2\n",
    "  nos += 2"
   ]
  },
  {
   "cell_type": "code",
   "execution_count": 49,
   "metadata": {},
   "outputs": [
    {
     "name": "stdout",
     "output_type": "stream",
     "text": [
      "1  \n",
      "2  3  \n",
      "4  5  6  \n",
      "7  8  9  10  \n",
      "11  12  13  14  15  \n"
     ]
    }
   ],
   "source": [
    "'''\n",
    "Q6. Write a program to print the right angled pattern of natural numbers.\n",
    "\n",
    "1  \n",
    "2  3  \n",
    "4  5  6  \n",
    "7  8  9  10  \n",
    "11  12  13  14  15 \n",
    "'''\n",
    "\n",
    "no = 1\n",
    "for i in range(5):\n",
    "  for k in range(i+1):\n",
    "    print(f'{no}  ', end='')\n",
    "    no += 1\n",
    "  print()"
   ]
  },
  {
   "cell_type": "code",
   "execution_count": 58,
   "metadata": {},
   "outputs": [
    {
     "name": "stdout",
     "output_type": "stream",
     "text": [
      "          5 \n",
      "        5 4 \n",
      "      5 4 3 \n",
      "    5 4 3 2 \n",
      "  5 4 3 2 1 \n"
     ]
    }
   ],
   "source": [
    "'''\n",
    "Q7. Write a program to print the mirrored right angled pattern of numbers.\n",
    "\n",
    "        5\n",
    "      5 4\n",
    "    5 4 3\n",
    "  5 4 3 2\n",
    "5 4 3 2 1\n",
    "'''\n",
    "\n",
    "for i in range(5, 0, -1):\n",
    "  for j in range(0, i):\n",
    "    print('  ', end='')\n",
    "  for k in range(5, i-1, -1):\n",
    "    print(f'{k} ',end='')\n",
    "  print()"
   ]
  },
  {
   "cell_type": "code",
   "execution_count": 2,
   "metadata": {},
   "outputs": [
    {
     "name": "stdout",
     "output_type": "stream",
     "text": [
      "1 2 3 4 3 2 1 \n",
      "  1 2 3 2 1 \n",
      "    1 2 1 \n",
      "      1 \n"
     ]
    }
   ],
   "source": [
    "'''\n",
    "Q8. Write a program to print the following inversed pyramid pattern of numbers and spaces.\n",
    "\n",
    "1 2 3 4 3 2 1\n",
    "  1 2 3 2 1\n",
    "    1 2 1\n",
    "      1\n",
    "'''\n",
    "\n",
    "for i in range(4, 0, -1):\n",
    "  for j in range(4, i, -1):\n",
    "    print(' ', end=' ')\n",
    "  for k in range(1, i+1):\n",
    "    print(k, end=' ')\n",
    "  for l in range(i-1, 0, -1):\n",
    "    print(l, end=' ')\n",
    "    l -= 1\n",
    "  print()"
   ]
  },
  {
   "cell_type": "code",
   "execution_count": 4,
   "metadata": {},
   "outputs": [
    {
     "name": "stdout",
     "output_type": "stream",
     "text": [
      "\n",
      "1 \n",
      "1 2 \n",
      "1 2 3 \n",
      "1 2 3 4 \n",
      "1 2 3 4 5 \n",
      "1 2 3 4 5 6 \n",
      "1 2 3 4 5 6 7 \n",
      "1 2 3 4 5 6 7 8 \n",
      "1 2 3 4 5 6 7 8 9 \n",
      "1 2 3 4 5 6 7 8 9 10 \n",
      "1 2 3 4 5 6 7 8 9 \n",
      "1 2 3 4 5 6 7 8 \n",
      "1 2 3 4 5 6 7 \n",
      "1 2 3 4 5 6 \n",
      "1 2 3 4 5 \n",
      "1 2 3 4 \n",
      "1 2 3 \n",
      "1 2 \n",
      "1 \n",
      "\n",
      "\n"
     ]
    }
   ],
   "source": [
    "'''\n",
    "Q9. Print the pattern given below.\n",
    "\n",
    "1\n",
    "1 2\n",
    "1 2 3\n",
    "1 2 3 4\n",
    "1 2 3 4 5\n",
    "1 2 3 4\n",
    "1 2 3\n",
    "1 2 \n",
    "1\n",
    "'''\n",
    "cols = int(input('Enter the no of columns: '))\n",
    "\n",
    "for i in range(0, cols+1):\n",
    "    for j in range(1, i+1):\n",
    "        print(j, end=' ')\n",
    "    print()\n",
    "for i in range(0, cols+1):\n",
    "    for j in range(1, cols-i):\n",
    "        print(j, end=' ')\n",
    "    print()\n",
    "\n",
    "\n"
   ]
  },
  {
   "cell_type": "code",
   "execution_count": 292,
   "metadata": {},
   "outputs": [
    {
     "name": "stdout",
     "output_type": "stream",
     "text": [
      "1\n",
      "1 2 3\n",
      "1 2 3 4 5\n",
      "1 2 3 4 5 6 7\n",
      "1 2 3 4 5 6 7 8 9\n",
      "1 2 3 4 5 6 7 8 9 10 11\n",
      "1 2 3 4 5 6 7 8 9 10 11 12 13\n",
      "1 2 3 4 5 6 7 8 9 10 11 12 13 14 15\n",
      "1 2 3 4 5 6 7 8 9 10 11 12 13\n",
      "1 2 3 4 5 6 7 8 9 10 11\n",
      "1 2 3 4 5 6 7 8 9\n",
      "1 2 3 4 5 6 7\n",
      "1 2 3 4 5\n",
      "1 2 3\n",
      "1\n"
     ]
    }
   ],
   "source": [
    "'''\n",
    "Q10. Write a program to print the following rhombus pattern of numbers:\n",
    "      \n",
    "      1  \n",
    "    1 2 3\n",
    "  1 2 3 4 5\n",
    "1 2 3 4 5 6 7\n",
    "  1 2 3 4 5\n",
    "    1 2 3 \n",
    "      1\n",
    "'''    \n",
    "\n",
    "'''\n",
    "for i in range(1, 8, 2):\n",
    "  for j in range(8, i+1, -1):\n",
    "    print(' ', end='')\n",
    "  for k in range(1, i+1):\n",
    "    print(k, end=' ')\n",
    "  print()\n",
    "\n",
    "for i in range(6, 0, -2):\n",
    "  for j in range(6, i-2, -1):\n",
    "    print(' ', end='')\n",
    "  for k in range(1, i):\n",
    "    print(k, end=' ')\n",
    "  print()\n",
    "'''\n",
    "n =  15 # Total number of rows\n",
    "for i in range(1, n + 1):\n",
    "    # Calculate the effective row index for symmetry\n",
    "    row = i if i<=n//2 +1 else n-i+1\n",
    "    # Create the number sequence as a string\n",
    "    numbers = \" \".join(str(j) for j in range(1, 2 * row))    \n",
    "    # Calculate the leading spaces for alignment\n",
    "    spaces = \" \" * (n - 2 * row + 2)\n",
    "    # Print the row\n",
    "    print(numbers)"
   ]
  }
 ],
 "metadata": {
  "kernelspec": {
   "display_name": "Python 3 (ipykernel)",
   "language": "python",
   "name": "python3"
  }
 },
 "nbformat": 4,
 "nbformat_minor": 2
}
