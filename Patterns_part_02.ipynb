{
 "cells": [
  {
   "cell_type": "code",
   "execution_count": 8,
   "metadata": {},
   "outputs": [
    {
     "name": "stdout",
     "output_type": "stream",
     "text": [
      "hello world\n"
     ]
    }
   ],
   "source": [
    "print('hello world')"
   ]
  },
  {
   "cell_type": "code",
   "execution_count": 9,
   "metadata": {},
   "outputs": [
    {
     "name": "stdout",
     "output_type": "stream",
     "text": [
      "1 2 3 4\n",
      "1 2 3 4\n",
      "1 2 3 4\n",
      "1 2 3 4\n",
      "\n",
      "1 2 3 4 \n",
      "1 2 3 4 \n",
      "1 2 3 4 \n",
      "1 2 3 4 \n"
     ]
    }
   ],
   "source": [
    "'''\n",
    "Q1. Write a program to print the following square pattern of numbers:\n",
    "\n",
    "1 2 3 4 \n",
    "1 2 3 4\n",
    "1 2 3 4\n",
    "1 2 3 4\n",
    "'''\n",
    "\n",
    "print(\"1 2 3 4\\n\" * 4)\n",
    "\n",
    "#OR\n",
    "\n",
    "for i in range(1,5):\n",
    "    for j in range(1, 5):\n",
    "        print(j, end = ' ')\n",
    "    print()"
   ]
  },
  {
   "cell_type": "code",
   "execution_count": 13,
   "metadata": {},
   "outputs": [
    {
     "name": "stdout",
     "output_type": "stream",
     "text": [
      "1 \n",
      "1 2 \n",
      "1 2 3 \n",
      "1 2 3 4 \n",
      "1 2 3 4 5 \n",
      "1\n",
      "1 2\n",
      "1 2 3\n",
      "1 2 3 4\n",
      "1 2 3 4 5\n",
      "\n",
      "Using double loops\n",
      "1 \n",
      "1 2 \n",
      "1 2 3 \n",
      "1 2 3 4 \n",
      "1 2 3 4 5 \n"
     ]
    }
   ],
   "source": [
    "'''\n",
    "Q2. Right-Angled Triangle of Numbers: Write a program to print a right-angled triangle pattern of numbers like this:\n",
    "\n",
    "1\n",
    "1 2\n",
    "1 2 3\n",
    "1 2 3 4\n",
    "1 2 3 4 5\n",
    "'''\n",
    "pat=''                              # Initialize an empty string to store the pattern\n",
    "for i in range(1, 6):\n",
    "    pat = pat + str(i) +' '         # Concatenate the current number (converted to string) and a space to 'pat'\n",
    "    print(pat)\n",
    "\n",
    "# OR \n",
    "\n",
    "pat = \"1 2 3 4 5\"\n",
    "for i in range(1, 10, +2):\n",
    "    print(pat[0:i])\n",
    "\n",
    "'''\n",
    "This can be done in another way with the help of two loops as below.\n",
    "'''\n",
    "print(\"\\nUsing double loops\")\n",
    "\n",
    "for i in range(1, 6):           # Outer loop for rows\n",
    "    for j in range(1,i+1):      # Inner loop for numbers in each row\n",
    "        print(j, end=' ')       # Print the number followed by a space\n",
    "    print()                     # Move to the next line after each row\n"
   ]
  },
  {
   "cell_type": "code",
   "execution_count": 14,
   "metadata": {},
   "outputs": [
    {
     "name": "stdout",
     "output_type": "stream",
     "text": [
      "5 \n",
      "5 4 \n",
      "5 4 3 \n",
      "5 4 3 2 \n",
      "5 4 3 2 1 \n"
     ]
    }
   ],
   "source": [
    "'''\n",
    "Q3. Right-Angled Triangle of Numbers: Write a program to print a right-angled triangle pattern of numbers like this:\n",
    "\n",
    "5 \n",
    "5 4 \n",
    "5 4 3 \n",
    "5 4 3 2 \n",
    "5 4 3 2 1 \n",
    "'''\n",
    "\n",
    "pat=''\n",
    "for i in range(5, 0, -1):\n",
    "    pat = pat + str(i) + ' '\n",
    "    print(pat)"
   ]
  },
  {
   "cell_type": "code",
   "execution_count": 15,
   "metadata": {},
   "outputs": [
    {
     "name": "stdout",
     "output_type": "stream",
     "text": [
      "5 4 3 2 1\n",
      "5 4 3 2\n",
      "5 4 3\n",
      "5 4\n",
      "5\n",
      "5 4 3 2 1 \n",
      "5 4 3 2 \n",
      "5 4 3 \n",
      "5 4 \n",
      "5 \n"
     ]
    }
   ],
   "source": [
    "'''\n",
    "Q4. Inverted Right-Angled Triangle of Numbers: Write a program to print an inverted right-angled triangle of numbers:\n",
    "\n",
    "5 4 3 2 1\n",
    "5 4 3 2\n",
    "5 4 3\n",
    "5 4\n",
    "5\n",
    "'''\n",
    "\n",
    "pat = '5 4 3 2 1'           # Total length of the string is 9\n",
    "for i in range(len(pat), 0, -2):   # Step -2 in order to skin the space in between the numbers.\n",
    "    print(pat[0:i])\n",
    "\n",
    "# OR \n",
    "\n",
    "for i in range(5):\n",
    "    for j in range(5, i, -1):       # In every iteration starts printing from 5 and towards the value of i.\n",
    "        print(j, end=' ')\n",
    "    print()"
   ]
  },
  {
   "cell_type": "code",
   "execution_count": null,
   "metadata": {},
   "outputs": [
    {
     "name": "stdout",
     "output_type": "stream",
     "text": [
      "      1 2 3 4\n",
      "    1 2 3 4\n",
      "  1 2 3 4\n",
      "1 2 3 4\n"
     ]
    }
   ],
   "source": [
    "'''\n",
    "Q5. Write a program to print the following parallelogram pattern of numbers and spaces:\n",
    "\n",
    "      1 2 3 4 \n",
    "    1 2 3 4\n",
    "  1 2 3 4\n",
    "1 2 3 4\n",
    "'''\n",
    "\n",
    "space=6\n",
    "for i in range(1,5):\n",
    "    print(' ' * space + '1 2 3 4')\n",
    "    space -= 2"
   ]
  },
  {
   "cell_type": "code",
   "execution_count": null,
   "metadata": {},
   "outputs": [],
   "source": [
    "'''\n",
    "Q6. Write a program to print the following triangle pattern of numbers and spaces:\n",
    "\n",
    "        1\n",
    "      0 1\n",
    "    1 0 1\n",
    "  0 1 0 1\n",
    "1 0 1 0 1\n",
    "'''"
   ]
  },
  {
   "cell_type": "code",
   "execution_count": 2,
   "metadata": {},
   "outputs": [
    {
     "data": {
      "text/plain": [
       "'\\nQ7. Write a program to print the following pyramid pattern of numbers and spaces:\\n\\n      1\\n    1 2 1\\n  1 2 3 1 2\\n1 2 3 4 1 2 3\\n'"
      ]
     },
     "execution_count": 2,
     "metadata": {},
     "output_type": "execute_result"
    }
   ],
   "source": [
    "'''\n",
    "Q7. Write a program to print the following pyramid pattern of numbers and spaces:\n",
    "\n",
    "      1\n",
    "    1 2 1\n",
    "  1 2 3 1 2\n",
    "1 2 3 4 1 2 3\n",
    "'''"
   ]
  },
  {
   "cell_type": "code",
   "execution_count": null,
   "metadata": {},
   "outputs": [],
   "source": [
    "'''\n",
    "Q8. Write a program to print the following inverse pyramid pattern of numbers and spaces:\n",
    "\n",
    "1 2 3 4 3 2 1\n",
    "  1 2 3 2 1\n",
    "    1 2 1\n",
    "      1\n",
    "'''"
   ]
  },
  {
   "cell_type": "code",
   "execution_count": null,
   "metadata": {},
   "outputs": [],
   "source": [
    "'''\n",
    "Q9. Write a program to print the following triangle pattern of numbers:\n",
    "\n",
    "1\n",
    "1 2\n",
    "1 2 3\n",
    "1 2 3 4\n",
    "1 2 3 4 5\n",
    "1 2 3 4\n",
    "1 2 3\n",
    "1 2\n",
    "1\n",
    "'''"
   ]
  },
  {
   "cell_type": "code",
   "execution_count": null,
   "metadata": {},
   "outputs": [],
   "source": [
    "'''\n",
    "Q10. Write a program to print the following rhombus pattern of numbers:\n",
    "      \n",
    "      1  \n",
    "    1 2 3\n",
    "  1 2 3 4 5\n",
    "1 2 3 4 5 6 7\n",
    "  1 2 3 4 5\n",
    "    1 2 3 \n",
    "      1\n",
    "'''    "
   ]
  }
 ],
 "metadata": {
  "kernelspec": {
   "display_name": "Python 3 (ipykernel)",
   "language": "python",
   "name": "python3"
  },
  "language_info": {
   "codemirror_mode": {
    "name": "ipython",
    "version": 3
   },
   "file_extension": ".py",
   "mimetype": "text/x-python",
   "name": "python",
   "nbconvert_exporter": "python",
   "pygments_lexer": "ipython3",
   "version": "3.12.1"
  }
 },
 "nbformat": 4,
 "nbformat_minor": 2
}
