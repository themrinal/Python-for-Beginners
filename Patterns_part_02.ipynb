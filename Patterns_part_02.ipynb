{
 "cells": [
  {
   "cell_type": "code",
   "execution_count": 8,
   "metadata": {},
   "outputs": [
    {
     "name": "stdout",
     "output_type": "stream",
     "text": [
      "hello world\n"
     ]
    }
   ],
   "source": [
    "print('hello world')"
   ]
  },
  {
   "cell_type": "code",
   "execution_count": 9,
   "metadata": {},
   "outputs": [
    {
     "name": "stdout",
     "output_type": "stream",
     "text": [
      "1 2 3 4\n",
      "1 2 3 4\n",
      "1 2 3 4\n",
      "1 2 3 4\n",
      "\n"
     ]
    }
   ],
   "source": [
    "'''\n",
    "Q1. Write a program to print the following square pattern of numbers:\n",
    "\n",
    "1 2 3 4 \n",
    "1 2 3 4\n",
    "1 2 3 4\n",
    "1 2 3 4\n",
    "'''\n",
    "\n",
    "print(\"1 2 3 4\\n\" * 4)"
   ]
  },
  {
   "cell_type": "code",
   "execution_count": 10,
   "metadata": {},
   "outputs": [
    {
     "name": "stdout",
     "output_type": "stream",
     "text": [
      "1 \n",
      "1 2 \n",
      "1 2 3 \n",
      "1 2 3 4 \n",
      "1 2 3 4 5 \n"
     ]
    }
   ],
   "source": [
    "'''\n",
    "Q2. Right-Angled Triangle of Numbers: Write a program to print a right-angled triangle pattern of numbers like this:\n",
    "\n",
    "1\n",
    "1 2\n",
    "1 2 3\n",
    "1 2 3 4\n",
    "1 2 3 4 5\n",
    "'''\n",
    "pat=''                              # Initialize an empty string to store the pattern\n",
    "for i in range(1, 6):\n",
    "    pat = pat + str(i) +' '         # Concatenate the current number (converted to string) and a space to 'pat'\n",
    "    print(pat)"
   ]
  },
  {
   "cell_type": "code",
   "execution_count": 11,
   "metadata": {},
   "outputs": [
    {
     "name": "stdout",
     "output_type": "stream",
     "text": [
      "5 \n",
      "5 4 \n",
      "5 4 3 \n",
      "5 4 3 2 \n",
      "5 4 3 2 1 \n"
     ]
    }
   ],
   "source": [
    "'''\n",
    "Q3. Right-Angled Triangle of Numbers: Write a program to print a right-angled triangle pattern of numbers like this:\n",
    "\n",
    "5 \n",
    "5 4 \n",
    "5 4 3 \n",
    "5 4 3 2 \n",
    "5 4 3 2 1 \n",
    "'''\n",
    "\n",
    "pat=''\n",
    "for i in range(5, 0, -1):\n",
    "    pat = pat + str(i) + ' '\n",
    "    print(pat)"
   ]
  },
  {
   "cell_type": "code",
   "execution_count": 4,
   "metadata": {},
   "outputs": [
    {
     "name": "stdout",
     "output_type": "stream",
     "text": [
      "5 4 3 2 1\n",
      "5 4 3 2\n",
      "5 4 3\n",
      "5 4\n",
      "5\n"
     ]
    }
   ],
   "source": [
    "'''\n",
    "Q4. Inverted Right-Angled Triangle of Numbers: Write a program to print an inverted right-angled triangle of numbers:\n",
    "\n",
    "5 4 3 2 1\n",
    "5 4 3 2\n",
    "5 4 3\n",
    "5 4\n",
    "5\n",
    "'''\n",
    "\n",
    "pat = '5 4 3 2 1'           # Total length of the string is 9\n",
    "for i in range(len(pat), 0, -2):   # Step -2 in order to skin the space in between the numbers.\n",
    "    print(pat[0:i])"
   ]
  },
  {
   "cell_type": "code",
   "execution_count": null,
   "metadata": {},
   "outputs": [
    {
     "data": {
      "text/plain": [
       "'\\nQ6. Write a program to print the following triangle pattern of numbers and spaces:\\n\\n        1\\n      0 1 0\\n    1 0 1 0 1\\n  0 1 0 1 0 1 0\\n1 0 1 0 1 0 1 0 1\\n'"
      ]
     },
     "execution_count": 3,
     "metadata": {},
     "output_type": "execute_result"
    }
   ],
   "source": [
    "'''\n",
    "Q6. Write a program to print the following triangle pattern of numbers and spaces:\n",
    "\n",
    "        1\n",
    "      0 1 0\n",
    "    1 0 1 0 1\n",
    "  0 1 0 1 0 1 0\n",
    "1 0 1 0 1 0 1 0 1\n",
    "'''\n",
    "\n"
   ]
  },
  {
   "cell_type": "code",
   "execution_count": null,
   "metadata": {},
   "outputs": [
    {
     "data": {
      "text/plain": [
       "'\\nQ7. Write a program to print the following pyramid pattern of numbers and spaces:\\n\\n      1\\n    1 2 1\\n  1 2 3 1 2\\n1 2 3 4 1 2 3\\n'"
      ]
     },
     "execution_count": 7,
     "metadata": {},
     "output_type": "execute_result"
    }
   ],
   "source": [
    "'''\n",
    "Q7. Write a program to print the following pyramid pattern of numbers and spaces:\n",
    "\n",
    "    1\n",
    "  2 3 4\n",
    "5 6 7 8 9\n",
    "'''"
   ]
  },
  {
   "cell_type": "code",
   "execution_count": 8,
   "metadata": {},
   "outputs": [
    {
     "data": {
      "text/plain": [
       "'\\nQ8. Write a program to print the following inverse pyramid pattern of numbers and spaces:\\n\\n1 2 3 4 3 2 1\\n  1 2 3 2 1\\n    1 2 1\\n      1\\n'"
      ]
     },
     "execution_count": 8,
     "metadata": {},
     "output_type": "execute_result"
    }
   ],
   "source": [
    "'''\n",
    "Q8. Write a program to print the following inverse pyramid pattern of numbers and spaces:\n",
    "\n",
    "1 2 3 4 3 2 1\n",
    "  1 2 3 2 1\n",
    "    1 2 1\n",
    "      1\n",
    "'''"
   ]
  },
  {
   "cell_type": "code",
   "execution_count": null,
   "metadata": {},
   "outputs": [],
   "source": [
    "'''\n",
    "Q9. Write a program to print the following triangle pattern of numbers:\n",
    "\n",
    "1\n",
    "1 2\n",
    "1 2 3\n",
    "1 2 3 4\n",
    "1 2 3 4 5\n",
    "1 2 3 4\n",
    "1 2 3\n",
    "1 2\n",
    "1\n",
    "'''"
   ]
  },
  {
   "cell_type": "code",
   "execution_count": null,
   "metadata": {},
   "outputs": [],
   "source": [
    "'''\n",
    "Q10. Write a program to print the following rhombus pattern of numbers:\n",
    "      \n",
    "      1  \n",
    "    1 2 3\n",
    "  1 2 3 4 5\n",
    "1 2 3 4 5 6 7\n",
    "  1 2 3 4 5\n",
    "    1 2 3 \n",
    "      1\n",
    "'''    "
   ]
  }
 ],
 "metadata": {
  "kernelspec": {
   "display_name": "Python 3 (ipykernel)",
   "language": "python",
   "name": "python3"
  }
 },
 "nbformat": 4,
 "nbformat_minor": 2
}
